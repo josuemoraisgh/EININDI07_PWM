{
  "cells": [
    {
      "cell_type": "markdown",
      "metadata": {
        "id": "RyJuDstTQmpW"
      },
      "source": [
        "# Filtros Analógicos\n",
        "\n",
        ">\n",
        "\n",
        "\n",
        "___"
      ]
    },
    {
      "cell_type": "markdown",
      "metadata": {
        "id": "pqYXBYihyZM5"
      },
      "source": [
        "## Explicando o código:\n",
        "\n",
        "Primeiro, importamos as bibliotecas numpy, scipy e matplotlib.\n",
        "Em seguida, definimos os parâmetros do filtro, incluindo a frequência de corte e a ordem do filtro.\n",
        "\n",
        "Usando a função signal.iirfilter() da biblioteca scipy, criamos a função de transferência do filtro.\n",
        "\n",
        "Em seguida, usamos a função signal.freqs() para calcular a resposta em frequência do filtro.\n",
        "\n",
        "Para plotar a resposta em frequência, convertemos a magnitude para dB usando a função 20 * np.log10(abs(h)).\n",
        "\n",
        "Por fim, usamos a função plt.semilogx() para plotar a magnitude em dB em função da frequência em Hz.\n",
        "\n",
        "Você pode ajustar os parâmetros do filtro e a faixa de frequência para atender às suas necessidades específicas."
      ]
    },
    {
      "cell_type": "code",
      "execution_count": 1,
      "metadata": {
        "id": "qMzBWSIoygTF"
      },
      "outputs": [
        {
          "ename": "ModuleNotFoundError",
          "evalue": "No module named 'cufflinks'",
          "output_type": "error",
          "traceback": [
            "\u001b[31m---------------------------------------------------------------------------\u001b[39m",
            "\u001b[31mModuleNotFoundError\u001b[39m                       Traceback (most recent call last)",
            "\u001b[36mCell\u001b[39m\u001b[36m \u001b[39m\u001b[32mIn[1]\u001b[39m\u001b[32m, line 12\u001b[39m\n\u001b[32m      9\u001b[39m \u001b[38;5;28;01mimport\u001b[39;00m\u001b[38;5;250m \u001b[39m\u001b[34;01mplotly\u001b[39;00m\u001b[34;01m.\u001b[39;00m\u001b[34;01mgraph_objs\u001b[39;00m\u001b[38;5;250m \u001b[39m\u001b[38;5;28;01mas\u001b[39;00m\u001b[38;5;250m \u001b[39m\u001b[34;01mgo\u001b[39;00m\n\u001b[32m     10\u001b[39m \u001b[38;5;28;01mfrom\u001b[39;00m\u001b[38;5;250m \u001b[39m\u001b[34;01mplotly\u001b[39;00m\u001b[34;01m.\u001b[39;00m\u001b[34;01moffline\u001b[39;00m\u001b[38;5;250m \u001b[39m\u001b[38;5;28;01mimport\u001b[39;00m iplot\n\u001b[32m---> \u001b[39m\u001b[32m12\u001b[39m \u001b[38;5;28;01mimport\u001b[39;00m\u001b[38;5;250m \u001b[39m\u001b[34;01mcufflinks\u001b[39;00m\u001b[38;5;250m \u001b[39m\u001b[38;5;28;01mas\u001b[39;00m\u001b[38;5;250m \u001b[39m\u001b[34;01mcf\u001b[39;00m\n\u001b[32m     13\u001b[39m \u001b[38;5;28;01mfrom\u001b[39;00m\u001b[38;5;250m \u001b[39m\u001b[34;01mplotly\u001b[39;00m\u001b[34;01m.\u001b[39;00m\u001b[34;01moffline\u001b[39;00m\u001b[38;5;250m \u001b[39m\u001b[38;5;28;01mimport\u001b[39;00m download_plotlyjs, init_notebook_mode, plot, iplot\n\u001b[32m     14\u001b[39m get_ipython().run_line_magic(\u001b[33m'\u001b[39m\u001b[33mmatplotlib\u001b[39m\u001b[33m'\u001b[39m, \u001b[33m'\u001b[39m\u001b[33minline\u001b[39m\u001b[33m'\u001b[39m)\n",
            "\u001b[31mModuleNotFoundError\u001b[39m: No module named 'cufflinks'"
          ]
        }
      ],
      "source": [
        "import numpy as np\n",
        "import pandas as pd\n",
        "from scipy import signal\n",
        "import matplotlib.pyplot as plt\n",
        "from numpy import cos, sin, pi, absolute, arange, abs, linspace, size, array, append, concatenate, real\n",
        "from plotly import __version__\n",
        "\n",
        "import plotly.offline as pyo\n",
        "import plotly.graph_objs as go\n",
        "from plotly.offline import iplot\n",
        "\n",
        "import cufflinks as cf\n",
        "from plotly.offline import download_plotlyjs, init_notebook_mode, plot, iplot\n",
        "%matplotlib inline"
      ]
    },
    {
      "cell_type": "markdown",
      "metadata": {
        "id": "EOztKq30om5u"
      },
      "source": [
        "## Projetando o filtro Analógico"
      ]
    },
    {
      "cell_type": "code",
      "execution_count": null,
      "metadata": {
        "id": "z6kfSUukoobx"
      },
      "outputs": [],
      "source": [
        "# Definindo os parâmetros do filtro\n",
        "# fDBP   => Frequência em [Hz] Desejada para a Banda escolhida.\n",
        "# ordem  => Ordem do Filtro.\n",
        "# ampMax => Atenuação máxima entre 0 a 1 aceitável da Amplitude.\n",
        "# ampMin => Atenuação mínima entre 0 a 1 necessária da Amplitude.\n",
        "\n",
        "def findFilterAnalog(fDBP,ordem,isBP=True,ampMax=0.95,ampMin=0.05):\n",
        "  condition = (ampMax if isBP==True else ampMin)\n",
        "  aux = (np.linspace(fDBP, fDBP*10, 1000) if isBP==True else np.linspace(1, fDBP, 1000))\n",
        "  for fc in aux:\n",
        "    # Criando a função de transferência do filtro\n",
        "    b, a = signal.iirfilter(ordem, 2*pi*fc, btype='lowpass', analog=True, output='ba', ftype='butter')\n",
        "    # Calculando a resposta em frequência do filtro\n",
        "    w, haux = signal.freqs(b, a, worN=np.linspace(0, 2*pi*fc*10, 100000))\n",
        "    h = abs(haux)\n",
        "    for i in range(size(h)):\n",
        "      if h[i] <= condition: break;\n",
        "    if abs(w[i]) >= 2*pi*fDBP: break;\n",
        "  f =  w/(2*pi) #Transformando a frequencia de rad/s para Hz\n",
        "  if isBP==True:\n",
        "    fmax = f[i]\n",
        "  else:\n",
        "    fmin = f[i]\n",
        "  condition = (ampMin if isBP==True else ampMax)\n",
        "  for i in range(size(h)):\n",
        "    if h[i] <= condition: break;\n",
        "  if isBP==True:\n",
        "    fmin = f[i]\n",
        "  else:\n",
        "    fmax = f[i]\n",
        "  return f,h,fmax,fc,fmin"
      ]
    },
    {
      "cell_type": "markdown",
      "metadata": {
        "id": "Fq14Izbc0sjj"
      },
      "source": [
        "## Plotando a resposta em frequência do filtro\n",
        "\n",
        "---\n",
        "\n"
      ]
    },
    {
      "cell_type": "code",
      "execution_count": null,
      "metadata": {
        "colab": {
          "base_uri": "https://localhost:8080/",
          "height": 475
        },
        "id": "JEjUBab4xqbG",
        "outputId": "8085b5f3-480b-4307-e1a3-e8f67697eae8"
      },
      "outputs": [],
      "source": [
        "f,h,fmax,fc,fmin = findFilterAnalog(100,2,True,0.95,0.5)\n",
        "fig, ax1 = plt.subplots(figsize=(20,6))\n",
        "ax1.set_xlabel('Frequência (Hz)')\n",
        "ax1.set_ylabel('Magnitude')\n",
        "ax1.plot(f, h, 'b')\n",
        "display(\"Frequência de atenuação máxima aceitável da Amplitude [Vermelho]: \" + str(fmax));\n",
        "ax1.axvline(fmax,color='r');\n",
        "display(\"Frequência de corte [Verde]: \" + str(fc));\n",
        "ax1.axvline(fc,color='g');\n",
        "display(\"Frequência de atenuação mínima necessária da Amplitude [Amarelo]: \"+ str(fmin));\n",
        "ax1.axvline(fmin,color='y');\n",
        "ax1.grid()\n",
        "plt.show()"
      ]
    },
    {
      "cell_type": "markdown",
      "metadata": {
        "id": "pe657YrhlYce"
      },
      "source": [
        "## Topologia de Sallen-Key\n",
        "\n",
        "\n"
      ]
    },
    {
      "cell_type": "markdown",
      "metadata": {},
      "source": [
        "![filtroAnalog.png](data:image/png;base64,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)"
      ]
    },
    {
      "cell_type": "code",
      "execution_count": null,
      "metadata": {
        "colab": {
          "base_uri": "https://localhost:8080/"
        },
        "id": "n1h_YQmykWjU",
        "outputId": "695a351c-8672-4691-8af6-b5f8952fb228"
      },
      "outputs": [],
      "source": [
        "fc = 104.86486486486487\n",
        "R = 1000\n",
        "c = 1/(2*pi*fc*R)\n",
        "print(\"O valor da capacitancia é: \",c)"
      ]
    }
  ],
  "metadata": {
    "colab": {
      "provenance": []
    },
    "kernelspec": {
      "display_name": "Python 3",
      "name": "python3"
    },
    "language_info": {
      "codemirror_mode": {
        "name": "ipython",
        "version": 3
      },
      "file_extension": ".py",
      "mimetype": "text/x-python",
      "name": "python",
      "nbconvert_exporter": "python",
      "pygments_lexer": "ipython3",
      "version": "3.13.5"
    }
  },
  "nbformat": 4,
  "nbformat_minor": 0
}
